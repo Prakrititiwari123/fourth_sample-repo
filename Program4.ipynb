{
  "nbformat": 4,
  "nbformat_minor": 0,
  "metadata": {
    "colab": {
      "provenance": []
    },
    "kernelspec": {
      "name": "python3",
      "display_name": "Python 3"
    },
    "language_info": {
      "name": "python"
    }
  },
  "cells": [
    {
      "cell_type": "code",
      "execution_count": null,
      "metadata": {
        "id": "-vqk3ZDh7DJ5"
      },
      "outputs": [],
      "source": [
        "RULES FOR NAMING THE VARIABLES\n",
        "VARIABLE CAN HAVE ALPHABETS[A-Z,a-z]\n",
        "VARIABLE NAME SHOULD NOT START WITH A NUMBER\n",
        "VARIABLE DO NOT ALLOW SPL CHARACTERS OTHER THAN UNDERSCORE\n",
        "CASE SENSITIVE"
      ]
    },
    {
      "cell_type": "code",
      "source": [
        "Books=['DS with python','BA with python']\n",
        "Books"
      ],
      "metadata": {
        "colab": {
          "base_uri": "https://localhost:8080/"
        },
        "id": "T3PP81Xo8HuO",
        "outputId": "22985c4c-ca81-4ee6-f4d1-a1e8b081a660"
      },
      "execution_count": 2,
      "outputs": [
        {
          "output_type": "execute_result",
          "data": {
            "text/plain": [
              "['DS with python', 'BA with python']"
            ]
          },
          "metadata": {},
          "execution_count": 2
        }
      ]
    },
    {
      "cell_type": "code",
      "source": [
        "Books ### Python is case sensitiv"
      ],
      "metadata": {
        "colab": {
          "base_uri": "https://localhost:8080/"
        },
        "id": "8ixs7hOZ8msQ",
        "outputId": "a75bfaa8-6443-4815-e73d-3baa9a227c7b"
      },
      "execution_count": 4,
      "outputs": [
        {
          "output_type": "execute_result",
          "data": {
            "text/plain": [
              "['DS with python', 'BA with python']"
            ]
          },
          "metadata": {},
          "execution_count": 4
        }
      ]
    },
    {
      "cell_type": "code",
      "source": [
        "2books=['DS with python','BA with python']\n",
        "2books "
      ],
      "metadata": {
        "colab": {
          "base_uri": "https://localhost:8080/",
          "height": 130
        },
        "id": "063BrClP8zui",
        "outputId": "d7d9a96e-c5f7-4db4-9e9e-84c2906e406e"
      },
      "execution_count": 6,
      "outputs": [
        {
          "output_type": "error",
          "ename": "SyntaxError",
          "evalue": "ignored",
          "traceback": [
            "\u001b[0;36m  File \u001b[0;32m\"<ipython-input-6-440aa478bdf1>\"\u001b[0;36m, line \u001b[0;32m1\u001b[0m\n\u001b[0;31m    2books=['DS with python','BA with python']\u001b[0m\n\u001b[0m     ^\u001b[0m\n\u001b[0;31mSyntaxError\u001b[0m\u001b[0;31m:\u001b[0m invalid syntax\n"
          ]
        }
      ]
    },
    {
      "cell_type": "code",
      "source": [
        "b2ooks=['DS with python','BA with python']\n",
        "b2ooks"
      ],
      "metadata": {
        "colab": {
          "base_uri": "https://localhost:8080/"
        },
        "id": "j0f9xDgs9OmJ",
        "outputId": "72f3952e-2184-4723-8ebd-8bddfd743a6f"
      },
      "execution_count": 7,
      "outputs": [
        {
          "output_type": "execute_result",
          "data": {
            "text/plain": [
              "['DS with python', 'BA with python']"
            ]
          },
          "metadata": {},
          "execution_count": 7
        }
      ]
    },
    {
      "cell_type": "code",
      "source": [
        "books+lists=['DS with python','BA with python' ]\n",
        "books+lists"
      ],
      "metadata": {
        "id": "-0z-C98A-STw"
      },
      "execution_count": null,
      "outputs": []
    },
    {
      "cell_type": "code",
      "source": [
        "books_lists=['DS with python','BA with python']\n",
        "books_lists"
      ],
      "metadata": {
        "id": "KCcpgipC_BIq"
      },
      "execution_count": null,
      "outputs": []
    },
    {
      "cell_type": "code",
      "source": [
        "book names='python','R'"
      ],
      "metadata": {
        "colab": {
          "base_uri": "https://localhost:8080/",
          "height": 130
        },
        "id": "ykg5KOGV-9Cf",
        "outputId": "dacc1c42-113a-4c70-e1f7-a0dee04f9aec"
      },
      "execution_count": 8,
      "outputs": [
        {
          "output_type": "error",
          "ename": "SyntaxError",
          "evalue": "ignored",
          "traceback": [
            "\u001b[0;36m  File \u001b[0;32m\"<ipython-input-8-fc3a1112b0b8>\"\u001b[0;36m, line \u001b[0;32m1\u001b[0m\n\u001b[0;31m    book names='python','R'\u001b[0m\n\u001b[0m         ^\u001b[0m\n\u001b[0;31mSyntaxError\u001b[0m\u001b[0;31m:\u001b[0m invalid syntax\n"
          ]
        }
      ]
    }
  ]
}